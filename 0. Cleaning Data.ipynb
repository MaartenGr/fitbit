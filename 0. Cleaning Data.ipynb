{
 "cells": [
  {
   "cell_type": "markdown",
   "metadata": {},
   "source": [
    "# Cleaning Data\n",
    "I made use of **fitbit_helpers.py** which I wrote to help me clean the data without having too much code in this notebook. Also, it helps too make this notebook more easily readable. \n",
    "\n",
    "**Important:** I didn't add all the individual files since that would clutter up my assignment. Thus, this code is simply to show my process and **cannot** be executed. "
   ]
  },
  {
   "cell_type": "code",
   "execution_count": 18,
   "metadata": {
    "collapsed": false
   },
   "outputs": [
    {
     "name": "stdout",
     "output_type": "stream",
     "text": [
      "51.729416370391846\n"
     ]
    }
   ],
   "source": [
    "import time\n",
    "import pandas as pd\n",
    "import fitbit_helper as fh\n",
    "import numpy as np\n",
    "\n",
    "start = time.time()\n",
    "\n",
    "# Loading intra-day Data\n",
    "heart_rate = fh.read_files('../Files/HeartRate/')\n",
    "steps = fh.read_files('../Files/Steps/')\n",
    "calories = fh.read_files('../Files/calories/')\n",
    "distance = fh.read_files('../Files/Distance/')\n",
    "floors = fh.read_files('../Files/Floors/')\n",
    "\n",
    "# Loading sleep data\n",
    "sleep = fh.read_sleep()\n",
    "\n",
    "# Loading summaries per day\n",
    "summaries = fh.read_and_combine_summaries('activityCalories', 'calories', 'caloriesBMR', 'distance', 'elevation', 'floors', \n",
    "             'minutesFairlyActive', 'minutesLightlyActive', 'minutesSedentary', 'minutesVeryActive', 'steps')\n",
    "\n",
    "# Resolving duplicate indices for intraday dataframes\n",
    "fh.resolve_duplicate_index(heart_rate, steps, calories, distance, floors, sleep)\n",
    "\n",
    "# the index to merge on\n",
    "fh.set_index_df(heart_rate, steps, calories, distance, floors, field = 'time')\n",
    "\n",
    "# Rename columns for easier concatenation\n",
    "floors.rename(columns={'value': 'floors'}, inplace=True)\n",
    "distance.rename(columns={'value': 'distance'}, inplace=True)\n",
    "calories.rename(columns={'value': 'calories'}, inplace=True)\n",
    "steps.rename(columns={'value': 'steps'}, inplace=True)\n",
    "heart_rate.rename(columns={'value': 'heartrate'}, inplace=True)\n",
    "calories.drop(['level', 'mets'], axis = 1, inplace = True)\n",
    "\n",
    "# Resample to prevent NaNs\n",
    "heart_rate = heart_rate.resample('60s').bfill()\n",
    "steps = steps.resample('60s').bfill()\n",
    "calories = calories.resample('60s').bfill()\n",
    "distance = distance.resample('60s').bfill()\n",
    "floors = floors.resample('60s').bfill()\n",
    "\n",
    "# Create intraday dataframe of all intra-day data\n",
    "intraday = pd.concat([floors, distance, calories, steps, heart_rate], axis = 1)\n",
    "\n",
    "# Saving all the created dataframes to files\n",
    "sleep.to_csv(\"sleep.csv\", index = False)\n",
    "intraday.to_csv(\"intraday.csv\", index = True)\n",
    "summaries.to_csv(\"summaries.csv\", index = False)\n",
    "\n",
    "end = time.time()\n",
    "print(end - start)"
   ]
  }
 ],
 "metadata": {
  "anaconda-cloud": {},
  "kernelspec": {
   "display_name": "Python [default]",
   "language": "python",
   "name": "python3"
  },
  "language_info": {
   "codemirror_mode": {
    "name": "ipython",
    "version": 3
   },
   "file_extension": ".py",
   "mimetype": "text/x-python",
   "name": "python",
   "nbconvert_exporter": "python",
   "pygments_lexer": "ipython3",
   "version": "3.5.4"
  },
  "latex_envs": {
   "LaTeX_envs_menu_present": true,
   "bibliofile": "biblio.bib",
   "cite_by": "apalike",
   "current_citInitial": 1,
   "eqLabelWithNumbers": true,
   "eqNumInitial": 1,
   "labels_anchors": false,
   "latex_user_defs": false,
   "report_style_numbering": false,
   "user_envs_cfg": false
  }
 },
 "nbformat": 4,
 "nbformat_minor": 2
}
